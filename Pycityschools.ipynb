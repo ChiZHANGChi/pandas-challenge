{
 "cells": [
  {
   "cell_type": "code",
   "execution_count": 46,
   "id": "88056a57",
   "metadata": {},
   "outputs": [],
   "source": [
    "import pandas as pd"
   ]
  },
  {
   "cell_type": "code",
   "execution_count": 47,
   "id": "f9b29c28",
   "metadata": {},
   "outputs": [],
   "source": [
    "school_df =pd.read_csv('./Resources/schools_complete.csv')"
   ]
  },
  {
   "cell_type": "code",
   "execution_count": 48,
   "id": "16a81878",
   "metadata": {},
   "outputs": [],
   "source": [
    "student_df =pd.read_csv('./Resources/students_complete.csv')"
   ]
  },
  {
   "cell_type": "code",
   "execution_count": 49,
   "id": "1911a412",
   "metadata": {},
   "outputs": [
    {
     "data": {
      "text/html": [
       "<div>\n",
       "<style scoped>\n",
       "    .dataframe tbody tr th:only-of-type {\n",
       "        vertical-align: middle;\n",
       "    }\n",
       "\n",
       "    .dataframe tbody tr th {\n",
       "        vertical-align: top;\n",
       "    }\n",
       "\n",
       "    .dataframe thead th {\n",
       "        text-align: right;\n",
       "    }\n",
       "</style>\n",
       "<table border=\"1\" class=\"dataframe\">\n",
       "  <thead>\n",
       "    <tr style=\"text-align: right;\">\n",
       "      <th></th>\n",
       "      <th>School ID</th>\n",
       "      <th>school_name</th>\n",
       "      <th>type</th>\n",
       "      <th>size</th>\n",
       "      <th>budget</th>\n",
       "    </tr>\n",
       "  </thead>\n",
       "  <tbody>\n",
       "    <tr>\n",
       "      <th>0</th>\n",
       "      <td>0</td>\n",
       "      <td>Huang High School</td>\n",
       "      <td>Government</td>\n",
       "      <td>2917</td>\n",
       "      <td>1910635</td>\n",
       "    </tr>\n",
       "    <tr>\n",
       "      <th>1</th>\n",
       "      <td>1</td>\n",
       "      <td>Figueroa High School</td>\n",
       "      <td>Government</td>\n",
       "      <td>2949</td>\n",
       "      <td>1884411</td>\n",
       "    </tr>\n",
       "    <tr>\n",
       "      <th>2</th>\n",
       "      <td>2</td>\n",
       "      <td>Shelton High School</td>\n",
       "      <td>Independent</td>\n",
       "      <td>1761</td>\n",
       "      <td>1056600</td>\n",
       "    </tr>\n",
       "    <tr>\n",
       "      <th>3</th>\n",
       "      <td>3</td>\n",
       "      <td>Hernandez High School</td>\n",
       "      <td>Government</td>\n",
       "      <td>4635</td>\n",
       "      <td>3022020</td>\n",
       "    </tr>\n",
       "    <tr>\n",
       "      <th>4</th>\n",
       "      <td>4</td>\n",
       "      <td>Griffin High School</td>\n",
       "      <td>Independent</td>\n",
       "      <td>1468</td>\n",
       "      <td>917500</td>\n",
       "    </tr>\n",
       "    <tr>\n",
       "      <th>5</th>\n",
       "      <td>5</td>\n",
       "      <td>Wilson High School</td>\n",
       "      <td>Independent</td>\n",
       "      <td>2283</td>\n",
       "      <td>1319574</td>\n",
       "    </tr>\n",
       "    <tr>\n",
       "      <th>6</th>\n",
       "      <td>6</td>\n",
       "      <td>Cabrera High School</td>\n",
       "      <td>Independent</td>\n",
       "      <td>1858</td>\n",
       "      <td>1081356</td>\n",
       "    </tr>\n",
       "    <tr>\n",
       "      <th>7</th>\n",
       "      <td>7</td>\n",
       "      <td>Bailey High School</td>\n",
       "      <td>Government</td>\n",
       "      <td>4976</td>\n",
       "      <td>3124928</td>\n",
       "    </tr>\n",
       "    <tr>\n",
       "      <th>8</th>\n",
       "      <td>8</td>\n",
       "      <td>Holden High School</td>\n",
       "      <td>Independent</td>\n",
       "      <td>427</td>\n",
       "      <td>248087</td>\n",
       "    </tr>\n",
       "    <tr>\n",
       "      <th>9</th>\n",
       "      <td>9</td>\n",
       "      <td>Pena High School</td>\n",
       "      <td>Independent</td>\n",
       "      <td>962</td>\n",
       "      <td>585858</td>\n",
       "    </tr>\n",
       "    <tr>\n",
       "      <th>10</th>\n",
       "      <td>10</td>\n",
       "      <td>Wright High School</td>\n",
       "      <td>Independent</td>\n",
       "      <td>1800</td>\n",
       "      <td>1049400</td>\n",
       "    </tr>\n",
       "    <tr>\n",
       "      <th>11</th>\n",
       "      <td>11</td>\n",
       "      <td>Rodriguez High School</td>\n",
       "      <td>Government</td>\n",
       "      <td>3999</td>\n",
       "      <td>2547363</td>\n",
       "    </tr>\n",
       "    <tr>\n",
       "      <th>12</th>\n",
       "      <td>12</td>\n",
       "      <td>Johnson High School</td>\n",
       "      <td>Government</td>\n",
       "      <td>4761</td>\n",
       "      <td>3094650</td>\n",
       "    </tr>\n",
       "    <tr>\n",
       "      <th>13</th>\n",
       "      <td>13</td>\n",
       "      <td>Ford High School</td>\n",
       "      <td>Government</td>\n",
       "      <td>2739</td>\n",
       "      <td>1763916</td>\n",
       "    </tr>\n",
       "    <tr>\n",
       "      <th>14</th>\n",
       "      <td>14</td>\n",
       "      <td>Thomas High School</td>\n",
       "      <td>Independent</td>\n",
       "      <td>1635</td>\n",
       "      <td>1043130</td>\n",
       "    </tr>\n",
       "  </tbody>\n",
       "</table>\n",
       "</div>"
      ],
      "text/plain": [
       "    School ID            school_name         type  size   budget\n",
       "0           0      Huang High School   Government  2917  1910635\n",
       "1           1   Figueroa High School   Government  2949  1884411\n",
       "2           2    Shelton High School  Independent  1761  1056600\n",
       "3           3  Hernandez High School   Government  4635  3022020\n",
       "4           4    Griffin High School  Independent  1468   917500\n",
       "5           5     Wilson High School  Independent  2283  1319574\n",
       "6           6    Cabrera High School  Independent  1858  1081356\n",
       "7           7     Bailey High School   Government  4976  3124928\n",
       "8           8     Holden High School  Independent   427   248087\n",
       "9           9       Pena High School  Independent   962   585858\n",
       "10         10     Wright High School  Independent  1800  1049400\n",
       "11         11  Rodriguez High School   Government  3999  2547363\n",
       "12         12    Johnson High School   Government  4761  3094650\n",
       "13         13       Ford High School   Government  2739  1763916\n",
       "14         14     Thomas High School  Independent  1635  1043130"
      ]
     },
     "execution_count": 49,
     "metadata": {},
     "output_type": "execute_result"
    }
   ],
   "source": [
    "school_df"
   ]
  },
  {
   "cell_type": "code",
   "execution_count": 50,
   "id": "e54c2177",
   "metadata": {},
   "outputs": [
    {
     "name": "stdout",
     "output_type": "stream",
     "text": [
      "The number of unique schools is:  15\n"
     ]
    }
   ],
   "source": [
    "print('The number of unique schools is: ',len(school_df['School ID'].unique()))"
   ]
  },
  {
   "cell_type": "code",
   "execution_count": 51,
   "id": "11e4ffe3",
   "metadata": {},
   "outputs": [
    {
     "data": {
      "text/html": [
       "<div>\n",
       "<style scoped>\n",
       "    .dataframe tbody tr th:only-of-type {\n",
       "        vertical-align: middle;\n",
       "    }\n",
       "\n",
       "    .dataframe tbody tr th {\n",
       "        vertical-align: top;\n",
       "    }\n",
       "\n",
       "    .dataframe thead th {\n",
       "        text-align: right;\n",
       "    }\n",
       "</style>\n",
       "<table border=\"1\" class=\"dataframe\">\n",
       "  <thead>\n",
       "    <tr style=\"text-align: right;\">\n",
       "      <th></th>\n",
       "      <th>Student ID</th>\n",
       "      <th>student_name</th>\n",
       "      <th>gender</th>\n",
       "      <th>year</th>\n",
       "      <th>school_name</th>\n",
       "      <th>reading_score</th>\n",
       "      <th>maths_score</th>\n",
       "    </tr>\n",
       "  </thead>\n",
       "  <tbody>\n",
       "    <tr>\n",
       "      <th>0</th>\n",
       "      <td>0</td>\n",
       "      <td>Paul Bradley</td>\n",
       "      <td>M</td>\n",
       "      <td>9</td>\n",
       "      <td>Huang High School</td>\n",
       "      <td>96</td>\n",
       "      <td>94</td>\n",
       "    </tr>\n",
       "    <tr>\n",
       "      <th>1</th>\n",
       "      <td>1</td>\n",
       "      <td>Victor Smith</td>\n",
       "      <td>M</td>\n",
       "      <td>12</td>\n",
       "      <td>Huang High School</td>\n",
       "      <td>90</td>\n",
       "      <td>43</td>\n",
       "    </tr>\n",
       "    <tr>\n",
       "      <th>2</th>\n",
       "      <td>2</td>\n",
       "      <td>Kevin Rodriguez</td>\n",
       "      <td>M</td>\n",
       "      <td>12</td>\n",
       "      <td>Huang High School</td>\n",
       "      <td>41</td>\n",
       "      <td>76</td>\n",
       "    </tr>\n",
       "    <tr>\n",
       "      <th>3</th>\n",
       "      <td>3</td>\n",
       "      <td>Richard Scott</td>\n",
       "      <td>M</td>\n",
       "      <td>12</td>\n",
       "      <td>Huang High School</td>\n",
       "      <td>89</td>\n",
       "      <td>86</td>\n",
       "    </tr>\n",
       "    <tr>\n",
       "      <th>4</th>\n",
       "      <td>4</td>\n",
       "      <td>Bonnie Ray</td>\n",
       "      <td>F</td>\n",
       "      <td>9</td>\n",
       "      <td>Huang High School</td>\n",
       "      <td>87</td>\n",
       "      <td>69</td>\n",
       "    </tr>\n",
       "    <tr>\n",
       "      <th>...</th>\n",
       "      <td>...</td>\n",
       "      <td>...</td>\n",
       "      <td>...</td>\n",
       "      <td>...</td>\n",
       "      <td>...</td>\n",
       "      <td>...</td>\n",
       "      <td>...</td>\n",
       "    </tr>\n",
       "    <tr>\n",
       "      <th>39165</th>\n",
       "      <td>39165</td>\n",
       "      <td>Donna Howard</td>\n",
       "      <td>F</td>\n",
       "      <td>12</td>\n",
       "      <td>Thomas High School</td>\n",
       "      <td>51</td>\n",
       "      <td>48</td>\n",
       "    </tr>\n",
       "    <tr>\n",
       "      <th>39166</th>\n",
       "      <td>39166</td>\n",
       "      <td>Dawn Bell</td>\n",
       "      <td>F</td>\n",
       "      <td>10</td>\n",
       "      <td>Thomas High School</td>\n",
       "      <td>81</td>\n",
       "      <td>89</td>\n",
       "    </tr>\n",
       "    <tr>\n",
       "      <th>39167</th>\n",
       "      <td>39167</td>\n",
       "      <td>Rebecca Tanner</td>\n",
       "      <td>F</td>\n",
       "      <td>9</td>\n",
       "      <td>Thomas High School</td>\n",
       "      <td>99</td>\n",
       "      <td>99</td>\n",
       "    </tr>\n",
       "    <tr>\n",
       "      <th>39168</th>\n",
       "      <td>39168</td>\n",
       "      <td>Desiree Kidd</td>\n",
       "      <td>F</td>\n",
       "      <td>10</td>\n",
       "      <td>Thomas High School</td>\n",
       "      <td>72</td>\n",
       "      <td>77</td>\n",
       "    </tr>\n",
       "    <tr>\n",
       "      <th>39169</th>\n",
       "      <td>39169</td>\n",
       "      <td>Carolyn Jackson</td>\n",
       "      <td>F</td>\n",
       "      <td>11</td>\n",
       "      <td>Thomas High School</td>\n",
       "      <td>47</td>\n",
       "      <td>62</td>\n",
       "    </tr>\n",
       "  </tbody>\n",
       "</table>\n",
       "<p>39170 rows × 7 columns</p>\n",
       "</div>"
      ],
      "text/plain": [
       "       Student ID     student_name gender  year         school_name  \\\n",
       "0               0     Paul Bradley      M     9   Huang High School   \n",
       "1               1     Victor Smith      M    12   Huang High School   \n",
       "2               2  Kevin Rodriguez      M    12   Huang High School   \n",
       "3               3    Richard Scott      M    12   Huang High School   \n",
       "4               4       Bonnie Ray      F     9   Huang High School   \n",
       "...           ...              ...    ...   ...                 ...   \n",
       "39165       39165     Donna Howard      F    12  Thomas High School   \n",
       "39166       39166        Dawn Bell      F    10  Thomas High School   \n",
       "39167       39167   Rebecca Tanner      F     9  Thomas High School   \n",
       "39168       39168     Desiree Kidd      F    10  Thomas High School   \n",
       "39169       39169  Carolyn Jackson      F    11  Thomas High School   \n",
       "\n",
       "       reading_score  maths_score  \n",
       "0                 96           94  \n",
       "1                 90           43  \n",
       "2                 41           76  \n",
       "3                 89           86  \n",
       "4                 87           69  \n",
       "...              ...          ...  \n",
       "39165             51           48  \n",
       "39166             81           89  \n",
       "39167             99           99  \n",
       "39168             72           77  \n",
       "39169             47           62  \n",
       "\n",
       "[39170 rows x 7 columns]"
      ]
     },
     "execution_count": 51,
     "metadata": {},
     "output_type": "execute_result"
    }
   ],
   "source": [
    "student_df"
   ]
  },
  {
   "cell_type": "code",
   "execution_count": 52,
   "id": "aabda96c",
   "metadata": {},
   "outputs": [
    {
     "name": "stdout",
     "output_type": "stream",
     "text": [
      "The number of students is:  39170\n"
     ]
    }
   ],
   "source": [
    "print('The number of students is: ',len(student_df['Student ID'].unique()))"
   ]
  },
  {
   "cell_type": "code",
   "execution_count": 53,
   "id": "9e5221dc",
   "metadata": {},
   "outputs": [
    {
     "name": "stdout",
     "output_type": "stream",
     "text": [
      "The total school budget is: $24649428\n"
     ]
    }
   ],
   "source": [
    "print('The total school budget is: ${}'.format(sum(school_df['budget'])))"
   ]
  },
  {
   "cell_type": "code",
   "execution_count": 54,
   "id": "d1d5093e",
   "metadata": {},
   "outputs": [
    {
     "name": "stdout",
     "output_type": "stream",
     "text": [
      "The average maths score is: 70.33819249425581%\n"
     ]
    }
   ],
   "source": [
    "print('The average maths score is: {}%'.format(student_df['maths_score'].mean()))"
   ]
  },
  {
   "cell_type": "code",
   "execution_count": 55,
   "id": "4183a0bd",
   "metadata": {},
   "outputs": [
    {
     "name": "stdout",
     "output_type": "stream",
     "text": [
      "The average reading score is: 69.98013786060761%\n"
     ]
    }
   ],
   "source": [
    "print('The average reading score is: {}%'.format(student_df['reading_score'].mean()))"
   ]
  },
  {
   "cell_type": "code",
   "execution_count": 56,
   "id": "12f3a674",
   "metadata": {},
   "outputs": [
    {
     "name": "stdout",
     "output_type": "stream",
     "text": [
      "The percentage of students who have passed maths is: 86.07863160582077%\n"
     ]
    }
   ],
   "source": [
    "print('The percentage of students who have passed maths is: {}%'.format((len(student_df[student_df['maths_score']>=50])/len(student_df['Student ID'].unique()))*100))"
   ]
  },
  {
   "cell_type": "code",
   "execution_count": 57,
   "id": "f485cebe",
   "metadata": {},
   "outputs": [
    {
     "name": "stdout",
     "output_type": "stream",
     "text": [
      "The percentage of students who have passed reading is: 84.42685728874139%\n"
     ]
    }
   ],
   "source": [
    "print('The percentage of students who have passed reading is: {}%'.format((len(student_df[student_df['reading_score']>=50])/len(student_df['Student ID'].unique()))*100))"
   ]
  },
  {
   "cell_type": "code",
   "execution_count": 61,
   "id": "360bf657",
   "metadata": {},
   "outputs": [
    {
     "name": "stdout",
     "output_type": "stream",
     "text": [
      "The percentage of students who have passed both is: 72.80827163645647%\n"
     ]
    }
   ],
   "source": [
    "print('The percentage of students who have passed both is: {}%'.format((len(student_df.loc[(student_df['reading_score']>=50) & (student_df['maths_score'] >= 50)])/len(student_df['Student ID'].unique()))*100))"
   ]
  },
  {
   "cell_type": "code",
   "execution_count": 100,
   "id": "2e221d89",
   "metadata": {},
   "outputs": [
    {
     "name": "stdout",
     "output_type": "stream",
     "text": [
      "              School Name  School Type  Total Students  Total School Budget  \\\n",
      "0       Huang High School   Government            2917            1910635.0   \n",
      "1    Figueroa High School   Government            2949            1884411.0   \n",
      "2     Shelton High School  Independent            1761            1056600.0   \n",
      "3   Hernandez High School   Government            4635            3022020.0   \n",
      "4     Griffin High School  Independent            1468             917500.0   \n",
      "5      Wilson High School  Independent            2283            1319574.0   \n",
      "6     Cabrera High School  Independent            1858            1081356.0   \n",
      "7      Bailey High School   Government            4976            3124928.0   \n",
      "8      Holden High School  Independent             427             248087.0   \n",
      "9        Pena High School  Independent             962             585858.0   \n",
      "10     Wright High School  Independent            1800            1049400.0   \n",
      "11  Rodriguez High School   Government            3999            2547363.0   \n",
      "12    Johnson High School   Government            4761            3094650.0   \n",
      "13       Ford High School   Government            2739            1763916.0   \n",
      "14     Thomas High School  Independent            1635            1043130.0   \n",
      "\n",
      "    Per Student Budget  Average Maths Score  Average Reading Score  \\\n",
      "0                655.0            68.935207              68.910525   \n",
      "1                639.0            68.698542              69.077993   \n",
      "2                600.0            72.034072              70.257808   \n",
      "3                652.0            68.874865              69.186408   \n",
      "4                625.0            71.788147              71.245232   \n",
      "5                578.0            69.170828              68.876916   \n",
      "6                582.0            71.657158              71.359526   \n",
      "7                628.0            72.352894              71.008842   \n",
      "8                581.0            72.583138              71.660422   \n",
      "9                609.0            72.088358              71.613306   \n",
      "10               583.0            72.047222              70.969444   \n",
      "11               637.0            72.047762              70.935984   \n",
      "12               650.0            68.843100              69.039277   \n",
      "13               644.0            69.091274              69.572472   \n",
      "14               638.0            69.581651              69.768807   \n",
      "\n",
      "    % Passing Maths  % Passing Reading  % Overall Passing  \n",
      "0         81.693521          81.453548          66.712376  \n",
      "1         81.654798          82.807731          67.650051  \n",
      "2         91.538898          86.712095          78.875639  \n",
      "3         80.949299          81.877023          66.364617  \n",
      "4         91.212534          88.487738          81.335150  \n",
      "5         82.785808          81.296540          67.455103  \n",
      "6         90.850377          89.074273          80.785791  \n",
      "7         91.639871          87.379421          80.084405  \n",
      "8         89.929742          88.524590          78.922717  \n",
      "9         91.683992          86.590437          79.209979  \n",
      "10        91.777778          86.666667          79.722222  \n",
      "11        90.797699          87.396849          79.419855  \n",
      "12        82.062592          81.978576          67.191766  \n",
      "13        82.438846          82.219788          67.469880  \n",
      "14        83.853211          82.629969          69.480122  \n"
     ]
    },
    {
     "name": "stderr",
     "output_type": "stream",
     "text": [
      "C:\\Users\\craig\\AppData\\Local\\Temp\\ipykernel_13476\\3937542803.py:19: FutureWarning: Calling float on a single element Series is deprecated and will raise a TypeError in the future. Use float(ser.iloc[0]) instead\n",
      "  budget = float(school_data['budget'])\n",
      "C:\\Users\\craig\\AppData\\Local\\Temp\\ipykernel_13476\\3937542803.py:19: FutureWarning: Calling float on a single element Series is deprecated and will raise a TypeError in the future. Use float(ser.iloc[0]) instead\n",
      "  budget = float(school_data['budget'])\n",
      "C:\\Users\\craig\\AppData\\Local\\Temp\\ipykernel_13476\\3937542803.py:19: FutureWarning: Calling float on a single element Series is deprecated and will raise a TypeError in the future. Use float(ser.iloc[0]) instead\n",
      "  budget = float(school_data['budget'])\n",
      "C:\\Users\\craig\\AppData\\Local\\Temp\\ipykernel_13476\\3937542803.py:19: FutureWarning: Calling float on a single element Series is deprecated and will raise a TypeError in the future. Use float(ser.iloc[0]) instead\n",
      "  budget = float(school_data['budget'])\n",
      "C:\\Users\\craig\\AppData\\Local\\Temp\\ipykernel_13476\\3937542803.py:19: FutureWarning: Calling float on a single element Series is deprecated and will raise a TypeError in the future. Use float(ser.iloc[0]) instead\n",
      "  budget = float(school_data['budget'])\n",
      "C:\\Users\\craig\\AppData\\Local\\Temp\\ipykernel_13476\\3937542803.py:19: FutureWarning: Calling float on a single element Series is deprecated and will raise a TypeError in the future. Use float(ser.iloc[0]) instead\n",
      "  budget = float(school_data['budget'])\n",
      "C:\\Users\\craig\\AppData\\Local\\Temp\\ipykernel_13476\\3937542803.py:19: FutureWarning: Calling float on a single element Series is deprecated and will raise a TypeError in the future. Use float(ser.iloc[0]) instead\n",
      "  budget = float(school_data['budget'])\n",
      "C:\\Users\\craig\\AppData\\Local\\Temp\\ipykernel_13476\\3937542803.py:19: FutureWarning: Calling float on a single element Series is deprecated and will raise a TypeError in the future. Use float(ser.iloc[0]) instead\n",
      "  budget = float(school_data['budget'])\n",
      "C:\\Users\\craig\\AppData\\Local\\Temp\\ipykernel_13476\\3937542803.py:19: FutureWarning: Calling float on a single element Series is deprecated and will raise a TypeError in the future. Use float(ser.iloc[0]) instead\n",
      "  budget = float(school_data['budget'])\n",
      "C:\\Users\\craig\\AppData\\Local\\Temp\\ipykernel_13476\\3937542803.py:19: FutureWarning: Calling float on a single element Series is deprecated and will raise a TypeError in the future. Use float(ser.iloc[0]) instead\n",
      "  budget = float(school_data['budget'])\n",
      "C:\\Users\\craig\\AppData\\Local\\Temp\\ipykernel_13476\\3937542803.py:19: FutureWarning: Calling float on a single element Series is deprecated and will raise a TypeError in the future. Use float(ser.iloc[0]) instead\n",
      "  budget = float(school_data['budget'])\n",
      "C:\\Users\\craig\\AppData\\Local\\Temp\\ipykernel_13476\\3937542803.py:19: FutureWarning: Calling float on a single element Series is deprecated and will raise a TypeError in the future. Use float(ser.iloc[0]) instead\n",
      "  budget = float(school_data['budget'])\n",
      "C:\\Users\\craig\\AppData\\Local\\Temp\\ipykernel_13476\\3937542803.py:19: FutureWarning: Calling float on a single element Series is deprecated and will raise a TypeError in the future. Use float(ser.iloc[0]) instead\n",
      "  budget = float(school_data['budget'])\n",
      "C:\\Users\\craig\\AppData\\Local\\Temp\\ipykernel_13476\\3937542803.py:19: FutureWarning: Calling float on a single element Series is deprecated and will raise a TypeError in the future. Use float(ser.iloc[0]) instead\n",
      "  budget = float(school_data['budget'])\n",
      "C:\\Users\\craig\\AppData\\Local\\Temp\\ipykernel_13476\\3937542803.py:19: FutureWarning: Calling float on a single element Series is deprecated and will raise a TypeError in the future. Use float(ser.iloc[0]) instead\n",
      "  budget = float(school_data['budget'])\n"
     ]
    }
   ],
   "source": [
    "#School Summary\n",
    "\n",
    "\n",
    "\n",
    "# Create DF\n",
    "school_summary_df = pd.DataFrame(columns=['School Name', 'School Type', 'Total Students', 'Total School Budget',\n",
    "                                          'Per Student Budget', 'Average Maths Score', 'Average Reading Score',\n",
    "                                          '% Passing Maths', '% Passing Reading', '% Overall Passing'])\n",
    "\n",
    "# loop through unique school names\n",
    "for school in school_df['school_name'].unique():\n",
    "    school_data = school_df[school_df['school_name'] == school]\n",
    "    student_school_df = student_df[student_df['school_name'] == school]\n",
    "\n",
    "    # Calculate values\n",
    "    sch_name = school\n",
    "    sch_type = school_data['type'].values[0]\n",
    "    num_students = len(student_school_df['Student ID'].unique())\n",
    "    budget = float(school_data['budget'])\n",
    "    budget_per_student = budget / num_students\n",
    "    average_math = student_school_df['maths_score'].mean()\n",
    "    average_read = student_school_df['reading_score'].mean()\n",
    "\n",
    "    percent_pass_math = (student_school_df['maths_score'] >= 50).mean() * 100\n",
    "    percent_pass_read = (student_school_df['reading_score'] >= 50).mean() * 100\n",
    "    percent_pass_both = ((student_school_df['reading_score'] >= 50) & (student_school_df['maths_score'] >= 50)).mean() * 100\n",
    "\n",
    "    # Create a row for the school\n",
    "    row = [sch_name, sch_type, num_students, budget, budget_per_student,\n",
    "           average_math, average_read, percent_pass_math, percent_pass_read, percent_pass_both]\n",
    "\n",
    "    # Append the row to the school_summary_df DF\n",
    "    school_summary_df.loc[len(school_summary_df)] = row\n",
    "\n",
    "\n",
    "print(school_summary_df)\n",
    "\n"
   ]
  },
  {
   "cell_type": "code",
   "execution_count": 82,
   "id": "2394dd3a",
   "metadata": {},
   "outputs": [
    {
     "name": "stdout",
     "output_type": "stream",
     "text": [
      "              School Name  School Type  Total Students  Total School Budget  \\\n",
      "4     Griffin High School  Independent            1468             917500.0   \n",
      "6     Cabrera High School  Independent            1858            1081356.0   \n",
      "7      Bailey High School   Government            4976            3124928.0   \n",
      "10     Wright High School  Independent            1800            1049400.0   \n",
      "11  Rodriguez High School   Government            3999            2547363.0   \n",
      "\n",
      "    Per Student Budget  Average Maths Score  Average Reading Score  \\\n",
      "4                625.0            71.788147              71.245232   \n",
      "6                582.0            71.657158              71.359526   \n",
      "7                628.0            72.352894              71.008842   \n",
      "10               583.0            72.047222              70.969444   \n",
      "11               637.0            72.047762              70.935984   \n",
      "\n",
      "    % Passing Maths  % Passing Reading  % Overall Passing  \\\n",
      "4         91.212534          88.487738          81.335150   \n",
      "6         90.850377          89.074273          80.785791   \n",
      "7         91.639871          87.379421          80.084405   \n",
      "10        91.777778          86.666667          79.722222   \n",
      "11        90.797699          87.396849          79.419855   \n",
      "\n",
      "   Spending Ranges (Per Student)         School Size  \n",
      "4                       $585-630  Medium (1000-2000)  \n",
      "6                          <$585  Medium (1000-2000)  \n",
      "7                       $585-630   Large (2000-5000)  \n",
      "10                         <$585  Medium (1000-2000)  \n",
      "11                      $630-645   Large (2000-5000)  \n"
     ]
    }
   ],
   "source": [
    "#Top Performing Schools (By % Overall Passing)\n",
    "# Sort the schools by \"% Overall Passing\" in descending order\n",
    "top_schools = school_summary_df.sort_values(by='% Overall Passing', ascending=False).head(5)\n",
    "\n",
    "print(top_schools)\n"
   ]
  },
  {
   "cell_type": "code",
   "execution_count": 83,
   "id": "0ff1d304",
   "metadata": {},
   "outputs": [
    {
     "name": "stdout",
     "output_type": "stream",
     "text": [
      "              School Name  School Type  Total Students  Total School Budget  \\\n",
      "3   Hernandez High School   Government            4635            3022020.0   \n",
      "0       Huang High School   Government            2917            1910635.0   \n",
      "12    Johnson High School   Government            4761            3094650.0   \n",
      "5      Wilson High School  Independent            2283            1319574.0   \n",
      "13       Ford High School   Government            2739            1763916.0   \n",
      "\n",
      "    Per Student Budget  Average Maths Score  Average Reading Score  \\\n",
      "3                652.0            68.874865              69.186408   \n",
      "0                655.0            68.935207              68.910525   \n",
      "12               650.0            68.843100              69.039277   \n",
      "5                578.0            69.170828              68.876916   \n",
      "13               644.0            69.091274              69.572472   \n",
      "\n",
      "    % Passing Maths  % Passing Reading  % Overall Passing  \\\n",
      "3         80.949299          81.877023          66.364617   \n",
      "0         81.693521          81.453548          66.712376   \n",
      "12        82.062592          81.978576          67.191766   \n",
      "5         82.785808          81.296540          67.455103   \n",
      "13        82.438846          82.219788          67.469880   \n",
      "\n",
      "   Spending Ranges (Per Student)        School Size  \n",
      "3                       $645-680  Large (2000-5000)  \n",
      "0                       $645-680  Large (2000-5000)  \n",
      "12                      $645-680  Large (2000-5000)  \n",
      "5                          <$585  Large (2000-5000)  \n",
      "13                      $630-645  Large (2000-5000)  \n"
     ]
    }
   ],
   "source": [
    "#Bottom Performing Schools (By % Overall Passing)\n",
    "\n",
    "# Sort the schools by \"% Overall Passing\" in ascending order\n",
    "bottom_schools = school_summary_df.sort_values(by='% Overall Passing').head(5)\n",
    "\n",
    "\n",
    "print(bottom_schools)"
   ]
  },
  {
   "cell_type": "code",
   "execution_count": 96,
   "id": "e5f38792",
   "metadata": {},
   "outputs": [
    {
     "name": "stdout",
     "output_type": "stream",
     "text": [
      "                          Year 9    Year 10    Year 11    Year 12\n",
      "school_name                                                      \n",
      "Bailey High School     72.493827  71.897498  72.374900  72.675097\n",
      "Cabrera High School    72.321970  72.437768  71.008299  70.604712\n",
      "Figueroa High School   68.477804  68.331586  68.811001  69.325282\n",
      "Ford High School       69.021609  69.387006  69.248862  68.617811\n",
      "Griffin High School    72.789731  71.093596  71.692521  71.469178\n",
      "Hernandez High School  68.586831  68.867156  69.154412  68.985075\n",
      "Holden High School     70.543307  75.105263  71.640777  73.409639\n",
      "Huang High School      69.081754  68.533246  69.431345  68.639316\n",
      "Johnson High School    69.469286  67.990220  68.637730  69.287393\n",
      "Pena High School       71.996364  72.396000  72.523438  71.187845\n",
      "Rodriguez High School  71.940722  71.779808  72.364811  72.154626\n",
      "Shelton High School    72.932075  72.506696  70.097087  72.331536\n",
      "Thomas High School     69.234273  70.057007  69.657831  69.369822\n",
      "Wilson High School     69.212361  69.455446  68.378965  69.787472\n",
      "Wright High School     71.741176  72.179012  73.275862  70.848238\n"
     ]
    }
   ],
   "source": [
    "#Maths Scores by Year\n",
    "# Create a pivot table to calculate the average math score\n",
    "math_scores_by_year = pd.pivot_table(student_df, values='maths_score', index='school_name', columns='year', aggfunc='mean')\n",
    "\n",
    "# Rename the columns\n",
    "math_scores_by_year.columns = ['Year 9', 'Year 10', 'Year 11', 'Year 12']\n",
    "\n",
    "\n",
    "print(math_scores_by_year)\n",
    "\n"
   ]
  },
  {
   "cell_type": "code",
   "execution_count": 97,
   "id": "845ecb35",
   "metadata": {},
   "outputs": [
    {
     "name": "stdout",
     "output_type": "stream",
     "text": [
      "                          Year 9    Year 10    Year 11    Year 12\n",
      "school_name                                                      \n",
      "Bailey High School     70.901920  70.848265  70.317346  72.195525\n",
      "Cabrera High School    71.172348  71.328326  71.201245  71.856021\n",
      "Figueroa High School   70.261682  67.677588  69.152327  69.082126\n",
      "Ford High School       69.615846  68.988701  70.735964  68.849722\n",
      "Griffin High School    72.026895  70.746305  72.385042  69.434932\n",
      "Hernandez High School  68.477569  70.621842  68.418199  69.244136\n",
      "Holden High School     71.598425  71.096491  73.310680  70.481928\n",
      "Huang High School      68.670616  69.516297  68.740638  68.671795\n",
      "Johnson High School    68.719286  69.295029  69.969115  67.992521\n",
      "Pena High School       70.949091  72.324000  71.703125  71.513812\n",
      "Rodriguez High School  70.902921  70.137500  71.424453  71.414449\n",
      "Shelton High School    70.715094  69.879464  71.150485  69.070081\n",
      "Thomas High School     69.672451  69.741093  70.749398  68.730769\n",
      "Wilson High School     68.683043  68.412541  68.796327  69.888143\n",
      "Wright High School     71.823529  71.386831  70.475862  69.821138\n"
     ]
    }
   ],
   "source": [
    "#Reading Score by Year\n",
    "# Create a pivot table to calculate the average reading score\n",
    "reading_scores_by_year = pd.pivot_table(student_df, values='reading_score', index='school_name', columns='year', aggfunc='mean')\n",
    "\n",
    "# Rename the columns\n",
    "reading_scores_by_year.columns = ['Year 9', 'Year 10', 'Year 11', 'Year 12']\n",
    "\n",
    "\n",
    "print(reading_scores_by_year)\n"
   ]
  },
  {
   "cell_type": "code",
   "execution_count": 98,
   "id": "08a428fa",
   "metadata": {},
   "outputs": [
    {
     "name": "stdout",
     "output_type": "stream",
     "text": [
      "                               Average Maths Score  Average Reading Score  \\\n",
      "Spending Ranges (Per Student)                                               \n",
      "<$585                                    71.364587              70.716577   \n",
      "$585-630                                 72.065868              71.031297   \n",
      "$630-645                                 69.854807              69.838814   \n",
      "$645-680                                 68.884391              69.045403   \n",
      "\n",
      "                               % Passing Maths  % Passing Reading  \\\n",
      "Spending Ranges (Per Student)                                       \n",
      "<$585                                88.835926          86.390517   \n",
      "$585-630                             91.518824          87.292423   \n",
      "$630-645                             84.686139          83.763585   \n",
      "$645-680                             81.568470          81.769716   \n",
      "\n",
      "                               % Overall Passing  \n",
      "Spending Ranges (Per Student)                     \n",
      "<$585                                  76.721458  \n",
      "$585-630                               79.876293  \n",
      "$630-645                               71.004977  \n",
      "$645-680                               66.756253  \n"
     ]
    }
   ],
   "source": [
    "#Scores by School Spending\n",
    "# Define the spending bins and labels\n",
    "spending_bins = [0, 585, 630, 645, 680]\n",
    "labels = [\"<$585\", \"$585-630\", \"$630-645\", \"$645-680\"]\n",
    "\n",
    "# Categorise spending\n",
    "school_summary_df['Spending Ranges (Per Student)'] = pd.cut(school_summary_df['Per Student Budget'], spending_bins, labels=labels)\n",
    "\n",
    "# Group the DataFrame\n",
    "spending_summary = school_summary_df.groupby('Spending Ranges (Per Student)').agg({\n",
    "    'Average Maths Score': 'mean',\n",
    "    'Average Reading Score': 'mean',\n",
    "    '% Passing Maths': 'mean',\n",
    "    '% Passing Reading': 'mean',\n",
    "    '% Overall Passing': 'mean'})\n",
    "\n",
    "\n",
    "print(spending_summary)"
   ]
  },
  {
   "cell_type": "code",
   "execution_count": 77,
   "id": "a7e850b5",
   "metadata": {},
   "outputs": [
    {
     "name": "stdout",
     "output_type": "stream",
     "text": [
      "                    Average Maths Score  Average Reading Score  \\\n",
      "School Size                                                      \n",
      "Small (<1000)                 72.335748              71.636864   \n",
      "Medium (1000-2000)            71.421650              70.720164   \n",
      "Large (2000-5000)             69.751809              69.576052   \n",
      "\n",
      "                    % Passing Maths  % Passing Reading  % Overall Passing  \n",
      "School Size                                                                \n",
      "Small (<1000)             90.806867          87.557513          79.066348  \n",
      "Medium (1000-2000)        89.846560          86.714149          78.039785  \n",
      "Large (2000-5000)         84.252804          83.301185          70.293507  \n"
     ]
    }
   ],
   "source": [
    "#Scores by School Size\n",
    "# Define the size bins and labels\n",
    "size_bins = [0, 1000, 2000, 5000]\n",
    "labels = [\"Small (<1000)\", \"Medium (1000-2000)\", \"Large (2000-5000)\"]\n",
    "\n",
    "# Add a new column to 'per_school_summary'\n",
    "per_school_summary['School Size'] = pd.cut(per_school_summary['Total Students'], size_bins, labels=labels)\n",
    "\n",
    "# Group the DataFrame by school size\n",
    "size_grouped = per_school_summary.groupby('School Size').agg({\n",
    "    'Average Maths Score': 'mean',\n",
    "    'Average Reading Score': 'mean',\n",
    "    '% Passing Maths': 'mean',\n",
    "    '% Passing Reading': 'mean',\n",
    "    '% Overall Passing': 'mean'})\n",
    "\n",
    "# Create the size_summary DF\n",
    "size_summary = pd.DataFrame(size_grouped)\n",
    "\n",
    "\n",
    "print(size_summary)\n",
    "\n"
   ]
  },
  {
   "cell_type": "code",
   "execution_count": 99,
   "id": "347c51aa",
   "metadata": {},
   "outputs": [
    {
     "name": "stdout",
     "output_type": "stream",
     "text": [
      "             Average Maths Score  Average Reading Score  % Passing Maths  \\\n",
      "School Type                                                                \n",
      "Government             69.834806              69.675929        84.462375   \n",
      "Independent            71.368822              70.718933        89.204043   \n",
      "\n",
      "             % Passing Reading  % Overall Passing  \n",
      "School Type                                        \n",
      "Government           83.587562          70.698993  \n",
      "Independent          86.247789          76.973340  \n"
     ]
    }
   ],
   "source": [
    "#Scores by School Type\n",
    "# Group the DataFrame by school type\n",
    "type_grouped = school_summary_df.groupby('School Type').agg({\n",
    "    'Average Maths Score': 'mean',\n",
    "    'Average Reading Score': 'mean',\n",
    "    '% Passing Maths': 'mean',\n",
    "    '% Passing Reading': 'mean',\n",
    "    '% Overall Passing': 'mean'})\n",
    "\n",
    "#Create the type_summary DF\n",
    "type_summary = pd.DataFrame(type_grouped)\n",
    "\n",
    "\n",
    "print(type_summary)"
   ]
  },
  {
   "cell_type": "code",
   "execution_count": null,
   "id": "ae702483",
   "metadata": {},
   "outputs": [],
   "source": []
  },
  {
   "cell_type": "code",
   "execution_count": null,
   "id": "75fea6bf",
   "metadata": {},
   "outputs": [],
   "source": []
  }
 ],
 "metadata": {
  "kernelspec": {
   "display_name": "Python 3 (ipykernel)",
   "language": "python",
   "name": "python3"
  },
  "language_info": {
   "codemirror_mode": {
    "name": "ipython",
    "version": 3
   },
   "file_extension": ".py",
   "mimetype": "text/x-python",
   "name": "python",
   "nbconvert_exporter": "python",
   "pygments_lexer": "ipython3",
   "version": "3.11.4"
  }
 },
 "nbformat": 4,
 "nbformat_minor": 5
}
